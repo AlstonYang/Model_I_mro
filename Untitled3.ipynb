{
 "cells": [
  {
   "cell_type": "code",
   "execution_count": 1,
   "metadata": {},
   "outputs": [],
   "source": [
    "## Import tensorflow package for modeling\n",
    "import torch\n",
    "from torch.autograd import Variable\n",
    "import torch.optim as optim\n",
    "\n",
    "## Data processing\n",
    "import pandas as pd\n",
    "import numpy as np\n",
    "\n",
    "## Min-max normalization\n",
    "from sklearn.preprocessing import MinMaxScaler\n",
    "\n",
    "## Plot the graph\n",
    "import matplotlib.pyplot as plt\n",
    "%matplotlib inline\n",
    "\n",
    "## Initializing module\n",
    "from sklearn.linear_model import LinearRegression\n",
    "np.set_printoptions(suppress=True)\n",
    "\n",
    "## Copy module\n",
    "import copy\n",
    "\n",
    "## Used to calculate the training time\n",
    "import time\n",
    "\n",
    "## Set the GUP environment\n",
    "import os\n",
    "\n",
    "from matplotlib.ticker import MaxNLocator"
   ]
  },
  {
   "cell_type": "code",
   "execution_count": 2,
   "metadata": {},
   "outputs": [],
   "source": [
    "def read(path):\n",
    "    return pd.read_csv(path)"
   ]
  },
  {
   "cell_type": "code",
   "execution_count": 3,
   "metadata": {},
   "outputs": [],
   "source": [
    "def buildTrain(train, pastWeek=4, futureWeek=4, defaultWeek=1):\n",
    "    X_train, Y_train = [], []\n",
    "    for i in range(train.shape[0]-futureWeek-pastWeek):\n",
    "        X = np.array(train.iloc[i:i+defaultWeek])\n",
    "        X = np.append(X,train[\"CCSP\"].iloc[i+defaultWeek:i+pastWeek])\n",
    "        X_train.append(X.reshape(X.size))\n",
    "        Y_train.append(np.array(train.iloc[i+pastWeek:i+pastWeek+futureWeek][\"CCSP\"]))\n",
    "    return np.array(X_train), np.array(Y_train)"
   ]
  },
  {
   "cell_type": "markdown",
   "metadata": {},
   "source": [
    "### Min-max normalization"
   ]
  },
  {
   "cell_type": "code",
   "execution_count": 4,
   "metadata": {},
   "outputs": [],
   "source": [
    "## Use min-max normalization to scale the data to the range from 1 to 0\n",
    "sc = MinMaxScaler(feature_range = (0, 1))"
   ]
  },
  {
   "cell_type": "code",
   "execution_count": 5,
   "metadata": {},
   "outputs": [],
   "source": [
    "def get_data(futureWeek):\n",
    "    \n",
    "    ## Read weekly copper price data\n",
    "    path = \"WeeklyFinalData.csv\"\n",
    "    data = read(path)\n",
    "    \n",
    "    date = data[\"Date\"]\n",
    "    data.drop(\"Date\", axis=1, inplace=True)\n",
    "    \n",
    "    ## Add time lag (pastWeek=4, futureWeek=1)\n",
    "    x_data, y_data = buildTrain(data, futureWeek=futureWeek)\n",
    "\n",
    "\n",
    "    return (x_data, y_data)\n",
    "\n",
    "#     return (x_data, y_data)"
   ]
  },
  {
   "cell_type": "code",
   "execution_count": 6,
   "metadata": {},
   "outputs": [],
   "source": [
    "x_data, y_data = get_data(4)\n",
    "x_data = sc.fit_transform(x_data)\n",
    "y_data = sc.fit_transform(y_data)\n",
    "threshold_for_error = 3000/(sc.data_max_-sc.data_min_)\n",
    "\n",
    "\n",
    "data = range(x_data.shape[0])\n",
    "# window_size => the length of training block\n",
    "window_size = 106\n",
    "# step_window => step size of each window\n",
    "step_window = 4\n",
    "# the split data\n",
    "splits = []\n",
    "\n",
    "## Moving window mechnism\n",
    "for i in range(window_size, len(data), step_window):\n",
    "    train = np.array(data[i-window_size:i])\n",
    "    test = np.array(data[i-window_size:i+step_window])\n",
    "#     test = np.array(data[i:i+step_window])\n",
    "    splits.append(('TRAIN:', train, 'TEST:', test))"
   ]
  },
  {
   "cell_type": "code",
   "execution_count": 9,
   "metadata": {},
   "outputs": [
    {
     "name": "stdout",
     "output_type": "stream",
     "text": [
      "y_train [[0.89815903 0.92831962 0.84351743 0.80395613]\n",
      " [0.92831962 0.84351743 0.80395613 0.81355268]\n",
      " [0.84351743 0.80395613 0.81355268 0.84214649]\n",
      " [0.80395613 0.81355268 0.84214649 0.84469252]\n",
      " [0.81355268 0.84214649 0.84469252 0.92897258]\n",
      " [0.84214649 0.84469252 0.92897258 0.98211242]\n",
      " [0.84469252 0.92897258 0.98211242 0.97473561]\n",
      " [0.92897258 0.98211242 0.97473561 0.99941246]\n",
      " [0.98211242 0.97473561 0.99941246 0.97669409]\n",
      " [0.97473561 0.99941246 0.97669409 0.975519  ]]\n",
      "y_test [[0.89815903 0.92831962 0.84351743 0.80395613]\n",
      " [0.92831962 0.84351743 0.80395613 0.81355268]\n",
      " [0.84351743 0.80395613 0.81355268 0.84214649]\n",
      " [0.80395613 0.81355268 0.84214649 0.84469252]\n",
      " [0.81355268 0.84214649 0.84469252 0.92897258]\n",
      " [0.84214649 0.84469252 0.92897258 0.98211242]\n",
      " [0.84469252 0.92897258 0.98211242 0.97473561]\n",
      " [0.92897258 0.98211242 0.97473561 0.99941246]\n",
      " [0.98211242 0.97473561 0.99941246 0.97669409]\n",
      " [0.97473561 0.99941246 0.97669409 0.975519  ]]\n",
      "y_train [[0.81355268 0.84214649 0.84469252 0.92897258]\n",
      " [0.84214649 0.84469252 0.92897258 0.98211242]\n",
      " [0.84469252 0.92897258 0.98211242 0.97473561]\n",
      " [0.92897258 0.98211242 0.97473561 0.99941246]\n",
      " [0.98211242 0.97473561 0.99941246 0.97669409]\n",
      " [0.97473561 0.99941246 0.97669409 0.975519  ]\n",
      " [0.99941246 0.97669409 0.975519   0.99275362]\n",
      " [0.97669409 0.975519   0.99275362 0.97904426]\n",
      " [0.975519   0.99275362 0.97904426 0.99725813]\n",
      " [0.99275362 0.97904426 0.99725813 0.98335292]]\n",
      "y_test [[0.81355268 0.84214649 0.84469252 0.92897258]\n",
      " [0.84214649 0.84469252 0.92897258 0.98211242]\n",
      " [0.84469252 0.92897258 0.98211242 0.97473561]\n",
      " [0.92897258 0.98211242 0.97473561 0.99941246]\n",
      " [0.98211242 0.97473561 0.99941246 0.97669409]\n",
      " [0.97473561 0.99941246 0.97669409 0.975519  ]\n",
      " [0.99941246 0.97669409 0.975519   0.99275362]\n",
      " [0.97669409 0.975519   0.99275362 0.97904426]\n",
      " [0.975519   0.99275362 0.97904426 0.99725813]\n",
      " [0.99275362 0.97904426 0.99725813 0.98335292]]\n",
      "y_train [[0.98211242 0.97473561 0.99941246 0.97669409]\n",
      " [0.97473561 0.99941246 0.97669409 0.975519  ]\n",
      " [0.99941246 0.97669409 0.975519   0.99275362]\n",
      " [0.97669409 0.975519   0.99275362 0.97904426]\n",
      " [0.975519   0.99275362 0.97904426 0.99725813]\n",
      " [0.99275362 0.97904426 0.99725813 0.98335292]\n",
      " [0.97904426 0.99725813 0.98335292 0.9800235 ]\n",
      " [0.99725813 0.98335292 0.9800235  0.96733255]\n",
      " [0.98335292 0.9800235  0.96733255 0.94379162]\n",
      " [0.9800235  0.96733255 0.94379162 0.88895417]]\n",
      "y_test [[0.98211242 0.97473561 0.99941246 0.97669409]\n",
      " [0.97473561 0.99941246 0.97669409 0.975519  ]\n",
      " [0.99941246 0.97669409 0.975519   0.99275362]\n",
      " [0.97669409 0.975519   0.99275362 0.97904426]\n",
      " [0.975519   0.99275362 0.97904426 0.99725813]\n",
      " [0.99275362 0.97904426 0.99725813 0.98335292]\n",
      " [0.97904426 0.99725813 0.98335292 0.9800235 ]\n",
      " [0.99725813 0.98335292 0.9800235  0.96733255]\n",
      " [0.98335292 0.9800235  0.96733255 0.94379162]\n",
      " [0.9800235  0.96733255 0.94379162 0.88895417]]\n"
     ]
    }
   ],
   "source": [
    "for i_block in range(3):\n",
    "    x_train = x_data[splits[i_block][1]]\n",
    "    x_test = x_data[splits[i_block][3]]\n",
    "    y_train = y_data[splits[i_block][1]]\n",
    "    y_test = y_data[splits[i_block][3]]\n",
    "    \n",
    "#     print(\"x_train\",x_train[:10])\n",
    "#     print(\"x_test\",x_test[:10])\n",
    "    print(\"y_train\",y_train[:10])\n",
    "    print(\"y_test\",y_test[:10])"
   ]
  },
  {
   "cell_type": "code",
   "execution_count": null,
   "metadata": {},
   "outputs": [],
   "source": []
  }
 ],
 "metadata": {
  "kernelspec": {
   "display_name": "Python 3",
   "language": "python",
   "name": "python3"
  },
  "language_info": {
   "codemirror_mode": {
    "name": "ipython",
    "version": 3
   },
   "file_extension": ".py",
   "mimetype": "text/x-python",
   "name": "python",
   "nbconvert_exporter": "python",
   "pygments_lexer": "ipython3",
   "version": "3.6.9"
  }
 },
 "nbformat": 4,
 "nbformat_minor": 4
}
