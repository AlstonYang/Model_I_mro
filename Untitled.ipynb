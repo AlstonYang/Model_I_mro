{
 "cells": [
  {
   "cell_type": "code",
   "execution_count": 101,
   "metadata": {},
   "outputs": [
    {
     "name": "stdout",
     "output_type": "stream",
     "text": [
      "m.weight.shape:\n",
      "  torch.Size([4, 18])\n",
      "m.bias.shape:\n",
      " torch.Size([4])\n",
      "output.shape:\n",
      " torch.Size([12, 4])\n"
     ]
    }
   ],
   "source": [
    "import torch\n",
    "\n",
    "x = torch.randn(12, 18)  # 输入的维度是（128，20）\n",
    "m = torch.nn.Linear(18, 4)  # 20,30是指维度\n",
    "output = m(x)\n",
    "print('m.weight.shape:\\n ', m.weight.shape)\n",
    "print('m.bias.shape:\\n', m.bias.shape)\n",
    "print('output.shape:\\n', output.shape)"
   ]
  },
  {
   "cell_type": "code",
   "execution_count": 102,
   "metadata": {},
   "outputs": [
    {
     "data": {
      "text/plain": [
       "tensor([[-0.1401,  0.1705,  0.0772, -0.0315,  0.1759,  0.0395, -0.2118,  0.0106,\n",
       "         -0.1031,  0.1479, -0.0667, -0.2000,  0.1693,  0.1707, -0.0683,  0.1895,\n",
       "         -0.1253, -0.0412],\n",
       "        [ 0.0913,  0.0391,  0.1350, -0.0453, -0.1642, -0.2000, -0.1412,  0.0347,\n",
       "          0.1983,  0.0172, -0.0458, -0.0782,  0.1848,  0.2052, -0.0208,  0.2250,\n",
       "          0.0269, -0.0684],\n",
       "        [ 0.1419, -0.1341, -0.0824, -0.2137, -0.1313, -0.0006, -0.1626,  0.0216,\n",
       "         -0.1201,  0.1220, -0.0930,  0.1274, -0.2113,  0.1178,  0.2167,  0.0881,\n",
       "         -0.1748, -0.1876],\n",
       "        [ 0.1671, -0.0227,  0.1384, -0.0310,  0.1859, -0.0322, -0.2254, -0.0199,\n",
       "          0.1866, -0.0955, -0.0846, -0.1975,  0.0895, -0.1203,  0.1879,  0.1012,\n",
       "          0.1277, -0.2194]])"
      ]
     },
     "execution_count": 102,
     "metadata": {},
     "output_type": "execute_result"
    }
   ],
   "source": [
    "m.weight.data"
   ]
  },
  {
   "cell_type": "code",
   "execution_count": 103,
   "metadata": {},
   "outputs": [
    {
     "data": {
      "text/plain": [
       "Parameter containing:\n",
       "tensor([[ 0.2883,  0.8783, -0.2848,  0.3663,  0.9970,  1.5199,  0.7461, -1.0089,\n",
       "          0.3017,  0.6580, -0.0438, -0.0494, -1.3335,  0.7278, -1.2050, -1.0776,\n",
       "          0.7433, -1.0339],\n",
       "        [ 1.2988,  1.4555, -1.3621, -0.5944,  0.8535, -1.8739, -0.1458,  0.2027,\n",
       "          0.7297, -0.4214, -0.2446,  1.5722,  0.4521, -1.4522, -0.5289, -3.0096,\n",
       "         -0.9911, -0.8163],\n",
       "        [-0.6859, -2.3441, -1.0819, -0.5344, -0.5311, -1.3029,  0.3059,  1.2385,\n",
       "         -0.2202, -0.4549,  1.9079,  0.2071,  0.9322, -0.2881, -0.7402,  0.3102,\n",
       "         -0.3477,  0.4502],\n",
       "        [-2.0097,  0.1680,  1.9814, -1.7647, -0.7664,  0.4335,  0.0556,  2.0548,\n",
       "         -0.6899, -0.9001, -2.2242, -1.3589, -0.3751, -0.0660, -1.7073, -1.3281,\n",
       "          0.3673,  0.7029]], requires_grad=True)"
      ]
     },
     "execution_count": 103,
     "metadata": {},
     "output_type": "execute_result"
    }
   ],
   "source": [
    "m.weight.data = torch.autograd.Variable(torch.randn(4, 18))\n",
    "m.weight"
   ]
  },
  {
   "cell_type": "code",
   "execution_count": 65,
   "metadata": {},
   "outputs": [],
   "source": [
    "## Import tensorflow package for modeling\n",
    "import tensorflow as tf\n",
    "\n",
    "## Data processing\n",
    "import pandas as pd\n",
    "import numpy as np\n",
    "\n",
    "## Min-max normalization\n",
    "from sklearn.preprocessing import MinMaxScaler\n",
    "\n",
    "## Plot the graph\n",
    "import matplotlib.pyplot as plt\n",
    "%matplotlib inline\n",
    "\n",
    "## Initializing module\n",
    "from sklearn.linear_model import LinearRegression\n",
    "np.set_printoptions(suppress=True)\n",
    "\n",
    "## Copy module\n",
    "import copy\n",
    "\n",
    "## Used to calculate the training time\n",
    "import time\n",
    "\n",
    "## Set the GUP environment\n",
    "import os"
   ]
  },
  {
   "cell_type": "code",
   "execution_count": 66,
   "metadata": {},
   "outputs": [
    {
     "data": {
      "text/plain": [
       "<tensorflow.python.client.session.Session at 0x7f56586c2240>"
      ]
     },
     "execution_count": 66,
     "metadata": {},
     "output_type": "execute_result"
    }
   ],
   "source": [
    "os.environ['CUDA_VISIBLE_DEVICES'] = \"0\"\n",
    "config = tf.compat.v1.ConfigProto()\n",
    "config.gpu_options.per_process_gpu_memory_fraction =0.1\n",
    "tf.compat.v1.Session(config=config)"
   ]
  },
  {
   "cell_type": "code",
   "execution_count": 67,
   "metadata": {},
   "outputs": [
    {
     "data": {
      "text/plain": [
       "<tf.Tensor: shape=(3, 4), dtype=float32, numpy=\n",
       "array([[ 0.1533191 ,  0.55068016, -0.14539811, -0.5017641 ],\n",
       "       [-1.6704311 ,  0.41185036, -0.31167123,  0.7353538 ],\n",
       "       [-0.9793071 , -0.8495564 ,  0.23865405, -0.78317297]],\n",
       "      dtype=float32)>"
      ]
     },
     "execution_count": 67,
     "metadata": {},
     "output_type": "execute_result"
    }
   ],
   "source": [
    "x = tf.random.normal([3,4], mean=0, stddev=1)\n",
    "x"
   ]
  },
  {
   "cell_type": "code",
   "execution_count": 68,
   "metadata": {},
   "outputs": [
    {
     "data": {
      "text/plain": [
       "<tf.Tensor: shape=(3, 4), dtype=float32, numpy=\n",
       "array([[ 0.1533191 ,  0.55068016, -0.14539811, -0.5017641 ],\n",
       "       [-1.6704311 ,  0.41185036, -0.31167123,  0.7353538 ],\n",
       "       [-0.9793071 , -0.8495564 ,  0.23865405, -0.78317297]],\n",
       "      dtype=float32)>"
      ]
     },
     "execution_count": 68,
     "metadata": {},
     "output_type": "execute_result"
    }
   ],
   "source": [
    "tf.keras.activations.linear(x)"
   ]
  },
  {
   "cell_type": "code",
   "execution_count": 69,
   "metadata": {},
   "outputs": [],
   "source": [
    "dense = tf.keras.layers.Dense(5, use_bias=True)"
   ]
  },
  {
   "cell_type": "code",
   "execution_count": 70,
   "metadata": {},
   "outputs": [
    {
     "data": {
      "text/plain": [
       "<tf.Tensor: shape=(3, 5), dtype=float32, numpy=\n",
       "array([[ 0.7369125 ,  0.33724278, -0.3793128 ,  0.00495875, -0.21804293],\n",
       "       [ 0.18705529,  1.8635157 ,  0.53861153, -1.9175682 ,  0.079723  ],\n",
       "       [-0.3049468 , -0.18016781,  0.06132968,  0.6341135 ,  1.6626754 ]],\n",
       "      dtype=float32)>"
      ]
     },
     "execution_count": 70,
     "metadata": {},
     "output_type": "execute_result"
    }
   ],
   "source": [
    "dense(x)"
   ]
  },
  {
   "cell_type": "code",
   "execution_count": 76,
   "metadata": {},
   "outputs": [
    {
     "name": "stdout",
     "output_type": "stream",
     "text": [
      "[<tf.Variable 'dense_6/kernel:0' shape=(4, 5) dtype=float32, numpy=\n",
      "array([[-0.04555422, -0.7576121 , -0.26020855,  0.6276177 , -0.5541905 ],\n",
      "       [ 0.7089052 ,  0.81207764,  0.0204522 , -0.7988087 , -0.6436971 ],\n",
      "       [-0.64237136, -0.51950645,  0.7973347 ,  0.05577701,  0.48868823],\n",
      "       [-0.51840544,  0.13817471,  0.46784842, -0.7109535 , -0.58284485]],\n",
      "      dtype=float32)>, <tf.Variable 'dense_6/bias:0' shape=(5,) dtype=float32, numpy=array([0., 0., 0., 0., 0.], dtype=float32)>]\n"
     ]
    }
   ],
   "source": [
    "print(dense.weights)"
   ]
  },
  {
   "cell_type": "code",
   "execution_count": 77,
   "metadata": {},
   "outputs": [
    {
     "data": {
      "text/plain": [
       "<tf.Tensor: shape=(3, 5), dtype=float32, numpy=\n",
       "array([[ 0.7369125 ,  0.33724278, -0.3793128 ,  0.00495875, -0.21804293],\n",
       "       [ 0.18705529,  1.8635157 ,  0.53861153, -1.9175682 ,  0.079723  ],\n",
       "       [-0.3049468 , -0.18016781,  0.06132968,  0.6341135 ,  1.6626754 ]],\n",
       "      dtype=float32)>"
      ]
     },
     "execution_count": 77,
     "metadata": {},
     "output_type": "execute_result"
    }
   ],
   "source": [
    "tf.matmul(x,dense.weights[0])"
   ]
  },
  {
   "cell_type": "code",
   "execution_count": 82,
   "metadata": {},
   "outputs": [],
   "source": [
    "a = tf.random.normal([4,5])\n",
    "dense.weights[0]= tf.Variable(a)"
   ]
  },
  {
   "cell_type": "code",
   "execution_count": 85,
   "metadata": {},
   "outputs": [
    {
     "ename": "TypeError",
     "evalue": "'ResourceVariable' object is not callable",
     "output_type": "error",
     "traceback": [
      "\u001b[0;31m\u001b[0m",
      "\u001b[0;31mTypeError\u001b[0mTraceback (most recent call last)",
      "\u001b[0;32m<ipython-input-85-a2006166459e>\u001b[0m in \u001b[0;36m<module>\u001b[0;34m\u001b[0m\n\u001b[0;32m----> 1\u001b[0;31m \u001b[0mdense\u001b[0m\u001b[0;34m.\u001b[0m\u001b[0mkernel\u001b[0m\u001b[0;34m(\u001b[0m\u001b[0ma\u001b[0m\u001b[0;34m)\u001b[0m\u001b[0;34m\u001b[0m\u001b[0;34m\u001b[0m\u001b[0m\n\u001b[0m",
      "\u001b[0;31mTypeError\u001b[0m: 'ResourceVariable' object is not callable"
     ]
    }
   ],
   "source": [
    "dense.set_weights"
   ]
  },
  {
   "cell_type": "code",
   "execution_count": 58,
   "metadata": {},
   "outputs": [],
   "source": [
    "dense.weights[0]=1"
   ]
  },
  {
   "cell_type": "code",
   "execution_count": 59,
   "metadata": {},
   "outputs": [
    {
     "data": {
      "text/plain": [
       "<tf.Variable 'dense_5/kernel:0' shape=(4, 5) dtype=float32, numpy=\n",
       "array([[-0.16539711, -0.11711168, -0.47316208,  0.45618165, -0.19023323],\n",
       "       [ 0.42892087, -0.1180262 , -0.14754993,  0.10116953,  0.69465184],\n",
       "       [ 0.20543075,  0.77459884,  0.53081596,  0.1117875 , -0.51476556],\n",
       "       [ 0.4952259 , -0.24200284,  0.6127641 ,  0.15550017, -0.7583608 ]],\n",
       "      dtype=float32)>"
      ]
     },
     "execution_count": 59,
     "metadata": {},
     "output_type": "execute_result"
    }
   ],
   "source": [
    "dense.weights[0]"
   ]
  },
  {
   "cell_type": "code",
   "execution_count": null,
   "metadata": {},
   "outputs": [],
   "source": []
  }
 ],
 "metadata": {
  "kernelspec": {
   "display_name": "Python 3",
   "language": "python",
   "name": "python3"
  },
  "language_info": {
   "codemirror_mode": {
    "name": "ipython",
    "version": 3
   },
   "file_extension": ".py",
   "mimetype": "text/x-python",
   "name": "python",
   "nbconvert_exporter": "python",
   "pygments_lexer": "ipython3",
   "version": "3.6.9"
  }
 },
 "nbformat": 4,
 "nbformat_minor": 4
}
